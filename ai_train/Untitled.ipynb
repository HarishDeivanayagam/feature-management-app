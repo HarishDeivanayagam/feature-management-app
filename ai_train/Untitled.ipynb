{
 "cells": [
  {
   "cell_type": "code",
   "execution_count": 1,
   "id": "extraordinary-poster",
   "metadata": {},
   "outputs": [],
   "source": [
    "import torch\n",
    "import torch.nn as nn"
   ]
  },
  {
   "cell_type": "code",
   "execution_count": 2,
   "id": "nearby-hungary",
   "metadata": {},
   "outputs": [
    {
     "name": "stdout",
     "output_type": "stream",
     "text": [
      "cuda\n"
     ]
    },
    {
     "data": {
      "text/plain": [
       "'GeForce GTX 1050 Ti'"
      ]
     },
     "execution_count": 2,
     "metadata": {},
     "output_type": "execute_result"
    }
   ],
   "source": [
    "device = torch.device('cuda' if torch.cuda.is_available() else 'cpu')\n",
    "print(device)\n",
    "torch.cuda.get_device_name(0)"
   ]
  },
  {
   "cell_type": "code",
   "execution_count": 17,
   "id": "color-sequence",
   "metadata": {},
   "outputs": [
    {
     "name": "stdout",
     "output_type": "stream",
     "text": [
      "tensor([[0.3733, 0.8560, 0.6473, 0.0516, 0.9855],\n",
      "        [0.1496, 0.4359, 0.9715, 0.1437, 0.5936],\n",
      "        [0.0833, 0.6469, 0.9967, 0.9767, 0.5264],\n",
      "        [0.3079, 0.6506, 0.0037, 0.7094, 0.0754],\n",
      "        [0.3508, 0.4714, 0.0400, 0.4489, 0.7577],\n",
      "        [0.8732, 0.5494, 0.9489, 0.1657, 0.4292]])\n",
      "tensor([[0.1047, 0.4219, 0.0421, 0.5113, 0.2196],\n",
      "        [0.4309, 0.0453, 0.9427, 0.6698, 0.9018]])\n"
     ]
    }
   ],
   "source": [
    "a = torch.rand(6,5)\n",
    "b = torch.rand(2,5)\n",
    "print(a)\n",
    "print(b)"
   ]
  },
  {
   "cell_type": "code",
   "execution_count": 21,
   "id": "elect-stereo",
   "metadata": {},
   "outputs": [
    {
     "data": {
      "text/plain": [
       "tensor([[0.1047, 0.4219, 0.0421, 0.5113, 0.2196],\n",
       "        [0.4309, 0.0453, 0.9427, 0.6698, 0.9018],\n",
       "        [0.0000, 0.0000, 0.0000, 0.0000, 0.0000],\n",
       "        [0.0000, 0.0000, 0.0000, 0.0000, 0.0000],\n",
       "        [0.0000, 0.0000, 0.0000, 0.0000, 0.0000],\n",
       "        [0.0000, 0.0000, 0.0000, 0.0000, 0.0000]])"
      ]
     },
     "execution_count": 21,
     "metadata": {},
     "output_type": "execute_result"
    }
   ],
   "source": [
    "target = torch.zeros(6, 5)\n",
    "target[:2, :] = b\n",
    "target"
   ]
  }
 ],
 "metadata": {
  "kernelspec": {
   "display_name": "Python 3",
   "language": "python",
   "name": "python3"
  },
  "language_info": {
   "codemirror_mode": {
    "name": "ipython",
    "version": 3
   },
   "file_extension": ".py",
   "mimetype": "text/x-python",
   "name": "python",
   "nbconvert_exporter": "python",
   "pygments_lexer": "ipython3",
   "version": "3.7.0"
  }
 },
 "nbformat": 4,
 "nbformat_minor": 5
}
